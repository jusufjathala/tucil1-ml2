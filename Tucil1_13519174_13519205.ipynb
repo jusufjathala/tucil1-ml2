{
 "cells": [
  {
   "cell_type": "markdown",
   "id": "9f359654",
   "metadata": {},
   "source": [
    "<h1>Tucil 1 IF3270</h1>\n",
    "\n",
    "<ul>\n",
    "    <li>Jusuf Junior Athala 13519174</li>\n",
    "    <li>Muhammad Rifat Abiwardani 13519205</li>\n",
    "</ul>\n",
    "\n",
    "<ol>    \n",
    "    Pembagian Tugas :  \n",
    "<li> Jusuf Junior Athala 13519174 \n",
    "    <ul>\n",
    "    <li> DecisionTreeClassifier </li>\n",
    "    <li> Id3Estimator </li>\n",
    "    <li> K Means  </li>\n",
    "    </ul>\n",
    "</li>\n",
    "<li> Muhammad Rifat Abiwardani 13519205 \n",
    "    <ul>\n",
    "    <li> LogisticRegression  </li>\n",
    "    <li> Neural_network   </li>\n",
    "    <li> SVM  </li>\n",
    "    </ul>\n",
    "</li>\n",
    "<ol>"
   ]
  },
  {
   "cell_type": "code",
   "execution_count": 1,
   "id": "afb3b4ed",
   "metadata": {},
   "outputs": [],
   "source": [
    "from sklearn.datasets import load_breast_cancer\n",
    "\n",
    "from sklearn.model_selection import train_test_split\n",
    "from sklearn.preprocessing import StandardScaler, LabelEncoder\n",
    "from sklearn.metrics import f1_score\n",
    "from sklearn.metrics import accuracy_score\n",
    "\n",
    "from sklearn import tree\n",
    "import six\n",
    "import sys\n",
    "sys.modules['sklearn.externals.six'] = six\n",
    "#pip install decision-tree-id3\n",
    "from id3 import Id3Estimator\n",
    "from sklearn.linear_model import LogisticRegression\n",
    "from sklearn.neural_network import MLPClassifier\n",
    "from sklearn.svm import SVC\n",
    "\n",
    "import matplotlib.pyplot as plt\n",
    "\n",
    "import pandas as pd"
   ]
  },
  {
   "cell_type": "code",
   "execution_count": 2,
   "id": "a1722ece",
   "metadata": {},
   "outputs": [],
   "source": [
    "# Set random state for project\n",
    "RD_STATE = 1\n",
    "\n",
    "# Load breast cancer dataset\n",
    "bc_data = load_breast_cancer()\n",
    "\n",
    "# Pisahkan menjadi training set (80%) dan testing set (20%)\n",
    "bc_X_train, bc_X_test, bc_y_train, bc_y_test = train_test_split(bc_data.data, bc_data.target, test_size=0.2, random_state=RD_STATE)"
   ]
  },
  {
   "cell_type": "code",
   "execution_count": 3,
   "id": "cf261812",
   "metadata": {},
   "outputs": [],
   "source": [
    "# Load play tennis dataset\n",
    "pt_df_raw = pd.read_csv(\"play_tennis.csv\")\n",
    "pt_df = pt_df_raw.copy()\n",
    "\n",
    "# Label encoding\n",
    "le = LabelEncoder()\n",
    "pt_classes = {}\n",
    "for column in pt_df.columns:\n",
    "    le.fit(pt_df[column])\n",
    "    pt_df[column] = le.transform(pt_df[column])\n",
    "    pt_classes[column] = le.classes_\n",
    "pt_X_train, pt_X_test, pt_y_train, pt_y_test = train_test_split(pt_df[['outlook', 'temp', 'humidity', 'wind']], pt_df[['play']], test_size=0.2, random_state=RD_STATE)\n"
   ]
  },
  {
   "cell_type": "code",
   "execution_count": 4,
   "id": "c212f74e",
   "metadata": {},
   "outputs": [
    {
     "name": "stdout",
     "output_type": "stream",
     "text": [
      "DecisionTreeClassifier:\n",
      "• Breast cancer dataset\n",
      "\tAccuracy:  0.9473684210526315\n",
      "\tf1_score:  0.9589041095890412\n",
      "\n",
      "|--- worst perimeter <= 106.05\n",
      "|   |--- worst concave points <= 0.16\n",
      "|   |   |--- worst concave points <= 0.14\n",
      "|   |   |   |--- area error <= 48.98\n",
      "|   |   |   |   |--- class: 1\n",
      "|   |   |   |--- area error >  48.98\n",
      "|   |   |   |   |--- worst compactness <= 0.08\n",
      "|   |   |   |   |   |--- class: 0\n",
      "|   |   |   |   |--- worst compactness >  0.08\n",
      "|   |   |   |   |   |--- class: 1\n",
      "|   |   |--- worst concave points >  0.14\n",
      "|   |   |   |--- mean texture <= 20.84\n",
      "|   |   |   |   |--- class: 1\n",
      "|   |   |   |--- mean texture >  20.84\n",
      "|   |   |   |   |--- class: 0\n",
      "|   |--- worst concave points >  0.16\n",
      "|   |   |--- mean texture <= 16.22\n",
      "|   |   |   |--- class: 1\n",
      "|   |   |--- mean texture >  16.22\n",
      "|   |   |   |--- class: 0\n",
      "|--- worst perimeter >  106.05\n",
      "|   |--- worst texture <= 20.65\n",
      "|   |   |--- worst perimeter <= 116.80\n",
      "|   |   |   |--- class: 1\n",
      "|   |   |--- worst perimeter >  116.80\n",
      "|   |   |   |--- smoothness error <= 0.00\n",
      "|   |   |   |   |--- class: 1\n",
      "|   |   |   |--- smoothness error >  0.00\n",
      "|   |   |   |   |--- class: 0\n",
      "|   |--- worst texture >  20.65\n",
      "|   |   |--- mean concave points <= 0.05\n",
      "|   |   |   |--- concave points error <= 0.01\n",
      "|   |   |   |   |--- class: 0\n",
      "|   |   |   |--- concave points error >  0.01\n",
      "|   |   |   |   |--- class: 1\n",
      "|   |   |--- mean concave points >  0.05\n",
      "|   |   |   |--- mean smoothness <= 0.08\n",
      "|   |   |   |   |--- class: 1\n",
      "|   |   |   |--- mean smoothness >  0.08\n",
      "|   |   |   |   |--- class: 0\n",
      "\n",
      "• Play tennis dataset\n",
      "\tAccuracy:  0.6666666666666666\n",
      "\tf1_score:  0.6666666666666666\n",
      "\n",
      "|--- Outlook <= 0.50\n",
      "|   |--- class: 1\n",
      "|--- Outlook >  0.50\n",
      "|   |--- Humidity <= 0.50\n",
      "|   |   |--- class: 0\n",
      "|   |--- Humidity >  0.50\n",
      "|   |   |--- Wind <= 0.50\n",
      "|   |   |   |--- Outlook <= 1.50\n",
      "|   |   |   |   |--- class: 0\n",
      "|   |   |   |--- Outlook >  1.50\n",
      "|   |   |   |   |--- class: 1\n",
      "|   |   |--- Wind >  0.50\n",
      "|   |   |   |--- class: 1\n",
      "\n"
     ]
    }
   ],
   "source": [
    "from sklearn.tree import export_text as ex_t\n",
    "\n",
    "# DecisionTreeClassifier\n",
    "\n",
    "# Fit classifier\n",
    "bc_dtc_clf = tree.DecisionTreeClassifier().fit(bc_X_train, bc_y_train)\n",
    "\n",
    "pt_dtc_clf = tree.DecisionTreeClassifier().fit(pt_X_train, pt_y_train)\n",
    "\n",
    "# Print accuracy dan nilai f1\n",
    "bc_fn = bc_data.feature_names\n",
    "bc_t = ex_t(bc_dtc_clf, feature_names=list(bc_fn))\n",
    "pt_t = ex_t(pt_dtc_clf, feature_names=list(['Outlook','Temprature','Humidity','Wind'] ))\n",
    "\n",
    "print(\"DecisionTreeClassifier:\")\n",
    "print(\"• Breast cancer dataset\")\n",
    "print(\"\\tAccuracy: \", bc_dtc_clf.score(bc_X_test, bc_y_test))\n",
    "print(\"\\tf1_score: \", f1_score(bc_y_test, bc_dtc_clf.predict(bc_X_test)))\n",
    "print()\n",
    "print(bc_t)\n",
    "print(\"• Play tennis dataset\")\n",
    "print(\"\\tAccuracy: \", pt_dtc_clf.score(pt_X_test, pt_y_test['play']))\n",
    "print(\"\\tf1_score: \", f1_score(pt_y_test['play'], pt_dtc_clf.predict(pt_X_test)))\n",
    "print()\n",
    "print(pt_t)"
   ]
  },
  {
   "cell_type": "markdown",
   "id": "69efc330",
   "metadata": {},
   "source": [
    "Decision Tree adalah salah satu metode untuk memprediksi target data dengan membuat model pohon yang dibuat berdasarkan pembelajaran nilai pada data training. Sckit menggunakan algoritma CART (Classification and Regression Trees) untuk DecisionTreeClassifier. Algoritma ini mengelompokan setiap pola atau data dalam sebuah kelas-kelas tertentu dan memodelkannya dalam bentuk pohon.\n",
    "\n",
    "• Breast cancer dataset  \n",
    "    • Accuracy:  0.9473684210526315  \n",
    "    Hasil penilaian berdasarkan accuracy menunjukkan 94% ketepatan prediksi. Hasil ini merupakan hasil yang cukup tinggi.   \n",
    "    • f1_score:  0.9589041095890412  \n",
    "    Hasil penilaian berdasarkan F1 menunjukkan 95% ketepatan prediksi. Hasil ini merupakan hasil yang cukup tinggi.  \n",
    "    Berdasarkan hasil, penilaian berdasarkan F1 memiliki nilai yang lebih besar dibandingkan dengan accuracy.  \n",
    " \n",
    "• Play tennis dataset  \n",
    "    • Accuracy:  0.6666666666666666  \n",
    "    Hasil penilaian berdasarkan accuracy menunjukkan 66% ketepatan prediksi. Hasil ini merupakan hasil yang cukup rendah.   \n",
    "    • f1_score:  0.6666666666666666  \n",
    "    Hasil penilaian berdasarkan F1 menunjukkan 66% ketepatan prediksi. Hasil ini merupakan hasil yang cukup rendah.  \n",
    "    Salah satu penyebab dari penilaian rendah untuk accuracy dan F1 adalah data test untuk dataset Play-Tennis yang berjumlah sedikit."
   ]
  },
  {
   "cell_type": "code",
   "execution_count": 5,
   "id": "90e16e56",
   "metadata": {},
   "outputs": [
    {
     "name": "stdout",
     "output_type": "stream",
     "text": [
      "DecisionTreeClassifier:\n",
      "• Breast cancer dataset\n",
      "\tAccuracy:  0.9385964912280702\n",
      "\tf1_score:  0.953020134228188\n",
      "\n",
      "worst perimeter <=105.15\n",
      "|   worst concave points <=0.14\n",
      "|   |   radius error <=0.64: 1 (249) \n",
      "|   |   radius error >0.64\n",
      "|   |   |   mean radius <=12.27: 0 (1) \n",
      "|   |   |   mean radius >12.27: 1 (2) \n",
      "|   worst concave points >0.14\n",
      "|   |   worst texture <=25.94: 1 (6) \n",
      "|   |   worst texture >25.94\n",
      "|   |   |   mean compactness <=0.12\n",
      "|   |   |   |   mean radius <=14.06: 1 (2) \n",
      "|   |   |   |   mean radius >14.06: 0 (1) \n",
      "|   |   |   mean compactness >0.12: 0 (5) \n",
      "worst perimeter >105.15\n",
      "|   worst concave points <=0.15\n",
      "|   |   worst texture <=19.91: 1 (13) \n",
      "|   |   worst texture >19.91\n",
      "|   |   |   worst radius <=16.80\n",
      "|   |   |   |   mean smoothness <=0.09: 1 (8) \n",
      "|   |   |   |   mean smoothness >0.09\n",
      "|   |   |   |   |   smoothness error <=0.00: 1 (2) \n",
      "|   |   |   |   |   smoothness error >0.00: 0 (5) \n",
      "|   |   |   worst radius >16.80\n",
      "|   |   |   |   worst concavity <=0.21\n",
      "|   |   |   |   |   mean texture <=21.26: 1 (2) \n",
      "|   |   |   |   |   mean texture >21.26: 0 (2) \n",
      "|   |   |   |   worst concavity >0.21: 0 (21) \n",
      "|   worst concave points >0.15\n",
      "|   |   mean texture <=15.35\n",
      "|   |   |   mean radius <=14.89: 1 (1) \n",
      "|   |   |   mean radius >14.89: 0 (3) \n",
      "|   |   mean texture >15.35: 0 (132) \n",
      "\n",
      "• Play tennis dataset\n",
      "\tAccuracy:  0.6666666666666666\n",
      "\tf1_score:  0.6666666666666666\n",
      "\n",
      "Outlook <=0.50: 1 (3) \n",
      "Outlook >0.50\n",
      "|   Humidity <=0.50: 0 (3) \n",
      "|   Humidity >0.50\n",
      "|   |   Wind <=0.50\n",
      "|   |   |   Temprature <=1.00: 0 (1) \n",
      "|   |   |   Temprature >1.00: 1 (1) \n",
      "|   |   Wind >0.50: 1 (3) \n",
      "\n"
     ]
    }
   ],
   "source": [
    "from id3 import export_text\n",
    "# Id3Estimator\n",
    "\n",
    "# Fit classifier\n",
    "bc_id3_clf = Id3Estimator().fit(bc_X_train, bc_y_train)\n",
    "\n",
    "pt_id3_clf = Id3Estimator().fit(pt_X_train, pt_y_train['play'])\n",
    "\n",
    "# Print accuracy dan nilai f1\n",
    "print(\"DecisionTreeClassifier:\")\n",
    "print(\"• Breast cancer dataset\")\n",
    "print(\"\\tAccuracy: \", accuracy_score(bc_y_test, bc_id3_clf.predict(bc_X_test)))\n",
    "print(\"\\tf1_score: \", f1_score(bc_y_test, bc_id3_clf.predict(bc_X_test)))\n",
    "print(export_text(bc_id3_clf.tree_, bc_fn))\n",
    "print(\"• Play tennis dataset\")\n",
    "print(\"\\tAccuracy: \", accuracy_score(pt_y_test['play'], pt_id3_clf.predict(pt_X_test)))\n",
    "print(\"\\tf1_score: \", f1_score(pt_y_test['play'], pt_id3_clf.predict(pt_X_test)))\n",
    "print(export_text(pt_id3_clf.tree_, feature_names=['Outlook','Temprature','Humidity','Wind'] ))"
   ]
  },
  {
   "cell_type": "markdown",
   "id": "98798408",
   "metadata": {},
   "source": [
    "Id3Estimator adalah salah satu algoritma decision tree. Algoritma ini melakukan pencarian secara menyeluruh (greedy) pada semua kemungkinan pohon keputusan  \n",
    "  \n",
    "• Breast cancer dataset    \n",
    "    • Accuracy:  0.9385964912280702  \n",
    "    Hasil penilaian berdasarkan accuracy menunjukkan 93% ketepatan prediksi. Hasil ini merupakan hasil yang cukup tinggi.  \n",
    "    • f1_score:  0.953020134228188    \n",
    "    Hasil penilaian berdasarkan F1 menunjukkan 95% ketepatan prediksi. Hasil ini merupakan hasil yang cukup tinggi.  \n",
    "    Berdasarkan hasil, penilaian berdasarkan F1 memiliki nilai yang lebih besar dibandingkan dengan accuracy.  \n",
    "      \n",
    "• Play tennis dataset  \n",
    "    • Accuracy:  0.6666666666666666  \n",
    "    Hasil penilaian berdasarkan accuracy menunjukkan 66% ketepatan prediksi. Hasil ini merupakan hasil yang cukup rendah.   \n",
    "    • f1_score:  0.6666666666666666  \n",
    "    Hasil penilaian berdasarkan F1 menunjukkan 66% ketepatan prediksi. Hasil ini merupakan hasil yang cukup rendah.  \n",
    "    Salah satu penyebab dari penilaian rendah untuk accuracy dan F1 adalah data test untuk dataset Play-Tennis yang berjumlah sedikit.  "
   ]
  },
  {
   "cell_type": "code",
   "execution_count": 6,
   "id": "ca332ad2",
   "metadata": {},
   "outputs": [
    {
     "name": "stdout",
     "output_type": "stream",
     "text": [
      "DecisionTreeClassifier:\n",
      "• Breast cancer dataset\n",
      "\tAccuracy:  0.8070175438596491\n",
      "\tf1_score:  0.8674698795180723\n",
      "• Play tennis dataset\n",
      "\tAccuracy:  0.0\n",
      "\tf1_score:  0.0\n"
     ]
    }
   ],
   "source": [
    "# K Means\n",
    "from sklearn.cluster import KMeans\n",
    "# Fit classifier\n",
    "bc_km_clf = KMeans(random_state=RD_STATE,n_clusters=2, max_iter=5).fit(bc_X_train, bc_y_train)\n",
    "\n",
    "pt_km_clf = KMeans(random_state=RD_STATE,n_clusters=2, max_iter=300).fit(pt_X_train, pt_y_train)\n",
    "\n",
    "# Print accuracy dan nilai f1\n",
    "\n",
    "print(\"DecisionTreeClassifier:\")\n",
    "print(\"• Breast cancer dataset\")\n",
    "print(\"\\tAccuracy: \", accuracy_score(bc_y_test, bc_km_clf.predict(bc_X_test)))\n",
    "print(\"\\tf1_score: \", f1_score(bc_y_test, bc_km_clf.predict(bc_X_test)))\n",
    "\n",
    "print(\"• Play tennis dataset\")\n",
    "print(\"\\tAccuracy: \", accuracy_score(pt_y_test['play'], pt_km_clf.predict(pt_X_test)))\n",
    "print(\"\\tf1_score: \", f1_score(pt_y_test['play'], pt_km_clf.predict(pt_X_test)))\n"
   ]
  },
  {
   "cell_type": "markdown",
   "id": "e958bef4",
   "metadata": {},
   "source": [
    "K Means adalah algoritma dengan mempartisi data yang ada kedalam satu atau lebih cluster atau kelompok data berdasarkan karakteristiknya. Data yang memiliki karakteristik berbeda akan dikelompokan kedalam cluster yang lain. Pada setiap cluster terdapat titik pusat (centroid) yang merepresentasikan cluster tersebut.\n",
    "\n",
    "• Breast cancer dataset  \n",
    "    • Accuracy: 0.8070175438596491  \n",
    "    Hasil penilaian berdasarkan accuracy menunjukkan 80% ketepatan prediksi. Hasil ini merupakan hasil yang cukup tinggi.  \n",
    "    • f1_score: 0.8674698795180723  \n",
    "    Hasil penilaian berdasarkan F1 menunjukkan 86% ketepatan prediksi. Hasil ini merupakan hasil yang cukup tinggi.  \n",
    "    Berdasarkan hasil, penilaian berdasarkan F1 memiliki nilai yang lebih besar dibandingkan dengan accuracy.  \n",
    "    \n",
    "• Play tennis dataset  \n",
    "    • Accuracy:  0.0  \n",
    "    Hasil penilaian berdasarkan accuracy menunjukkan 0% ketepatan prediksi. Hasil ini merupakan hasil yang  rendah.   \n",
    "    • f1_score:  0.0  \n",
    "    Hasil penilaian berdasarkan F1 menunjukkan 0% ketepatan prediksi. Hasil ini merupakan hasil yang rendah.  \n",
    "    Salah satu penyebab dari penilaian rendah untuk accuracy dan F1 adalah data test untuk dataset Play-Tennis yang berjumlah sedikit.  "
   ]
  },
  {
   "cell_type": "code",
   "execution_count": 7,
   "id": "047fc2d7",
   "metadata": {},
   "outputs": [
    {
     "name": "stdout",
     "output_type": "stream",
     "text": [
      "Logistic Regression Performance:\n",
      "• Breast cancer dataset\n",
      "\tAccuracy:  0.9736842105263158\n",
      "\tf1_score:  0.9793103448275863\n",
      "• Play tennis dataset\n",
      "\tAccuracy:  0.6666666666666666\n",
      "\tf1_score:  0.8\n"
     ]
    }
   ],
   "source": [
    "# Logistic Regression\n",
    "\n",
    "# Data preprocessing: normalisasi data agar setiap feature memiliki orde magnituda yang sama\n",
    "bc_scaler = StandardScaler().fit(bc_data.data)\n",
    "bc_X_train_scaled = bc_scaler.transform(bc_X_train)\n",
    "bc_X_test_scaled = bc_scaler.transform(bc_X_test)\n",
    "\n",
    "pt_scaler = StandardScaler().fit(pt_df[['outlook', 'temp', 'humidity', 'wind']])\n",
    "pt_X_train_scaled = pt_scaler.transform(pt_X_train)\n",
    "pt_X_test_scaled = pt_scaler.transform(pt_X_test)\n",
    "\n",
    "# Fit classifier\n",
    "bc_lr_clf = LogisticRegression(random_state=RD_STATE).fit(bc_X_train_scaled, bc_y_train)\n",
    "\n",
    "pt_lr_clf = LogisticRegression(random_state=RD_STATE).fit(pt_X_train_scaled, pt_y_train['play'])\n",
    "\n",
    "# Print accuracy dan nilai f1\n",
    "print(\"Logistic Regression Performance:\")\n",
    "print(\"• Breast cancer dataset\")\n",
    "print(\"\\tAccuracy: \", bc_lr_clf.score(bc_X_test_scaled, bc_y_test))\n",
    "print(\"\\tf1_score: \", f1_score(bc_y_test, bc_lr_clf.predict(bc_X_test_scaled)))\n",
    "print(\"• Play tennis dataset\")\n",
    "print(\"\\tAccuracy: \", pt_lr_clf.score(pt_X_test_scaled, pt_y_test['play']))\n",
    "print(\"\\tf1_score: \", f1_score(pt_y_test['play'], pt_lr_clf.predict(pt_X_test_scaled)))"
   ]
  },
  {
   "cell_type": "markdown",
   "id": "9421c153",
   "metadata": {},
   "source": [
    "Logistic regression untuk dua kelas melibatkan fungsi logit yang menggunakan nilai dot product dari vektor bobot b dengan vektor inputs x ditambah bias sebagai parameter exponennya. Dalam bentuk rumus:\n",
    "\n",
    " • y<sub>pred</sub> = 1/(1+exp(-(∑(b<sub>i</sub>.x<sub>i</sub>)+b<sub>0</sub>)))\n",
    "\n",
    "Training loop pada model logistic regression merupakan proses perhitungan cost dari hasil prediksi terhadap label sebetulnya, kemudian memperbarui nilai vektor bobot b, misal dengan stochastic gradient descent menggunakan rumus b<sub>j</sub> = b<sub>j</sub>+a\\*(y<sub>i</sub>-p<sub>i</sub>)\\*x<sub>ij</sub>, sehingga prediksi training set converge terhadap nilai asli\n",
    "\n",
    "Kinerja logistic regression pada dataset breast cancer cukup baik, accuracy 97% dan nilai f1 98%. Sementara itu, play tennis dataset memiliki accuracy 66.7% yang cukup buruk dan nilai f1 80% yang rata-rata. Namun ini karena ukuran test set play tennis cukup kecil, hanya 3, dan training set yang relatif kecil, hanya 11. Sebagai perbandingan, dataset breast cancer memiliki ukuran training set 455 dan test set 114. Oleh karena itu, terdapat noise yang mengganggu hasil analisis kinerja. Training set kecil menyebabkan kemungkinan overfit meningkat, dan testing set kecil berarti variance dataset condong lebih besar. Jika dataset lebih besar, maka accuracy classifier pada dataset play tennis kemungkinan berubah menjadi tidak lagi 66.7%."
   ]
  },
  {
   "cell_type": "code",
   "execution_count": 8,
   "id": "d50f1fec",
   "metadata": {},
   "outputs": [
    {
     "name": "stdout",
     "output_type": "stream",
     "text": [
      "Neural Network Performance:\n",
      "• Breast cancer dataset\n",
      "\tAccuracy:  0.9473684210526315\n",
      "\tf1_score:  0.9594594594594595\n",
      "• Play tennis dataset\n",
      "\tAccuracy:  1.0\n",
      "\tf1_score:  1.0\n"
     ]
    }
   ],
   "source": [
    "# Neural Network: Multi-Layer Perceptron Model\n",
    "\n",
    "# Fit classifier\n",
    "bc_mlp_clf = MLPClassifier(random_state=RD_STATE, activation='relu', max_iter=1000, hidden_layer_sizes=(100,)).fit(bc_X_train, bc_y_train)\n",
    "1\n",
    "pt_mlp_clf = MLPClassifier(random_state=RD_STATE, activation='relu', max_iter=1000, hidden_layer_sizes=(100,)).fit(pt_X_train, pt_y_train['play'])\n",
    "\n",
    "# Print accuracy dan nilai f1\n",
    "print(\"Neural Network Performance:\")\n",
    "print(\"• Breast cancer dataset\")\n",
    "print(\"\\tAccuracy: \", bc_mlp_clf.score(bc_X_test, bc_y_test))\n",
    "print(\"\\tf1_score: \", f1_score(bc_y_test, bc_mlp_clf.predict(bc_X_test)))\n",
    "print(\"• Play tennis dataset\")\n",
    "print(\"\\tAccuracy: \", pt_mlp_clf.score(pt_X_test, pt_y_test['play']))\n",
    "print(\"\\tf1_score: \", f1_score(pt_y_test['play'], pt_mlp_clf.predict(pt_X_test)))"
   ]
  },
  {
   "cell_type": "code",
   "execution_count": 9,
   "id": "6b0fe6e9",
   "metadata": {},
   "outputs": [
    {
     "name": "stdout",
     "output_type": "stream",
     "text": [
      "Parameter MLP dataset breast cancer:\n",
      "• Activation function\t: relu\n",
      "• Learning rate\t\t: 0.001\n",
      "• Max iterasi\t\t: 1000\n",
      "• Jumlah hidden layer\t: 100\n",
      "\n",
      "Parameter MLP dataset play tennis:\n",
      "• Activation function\t: relu\n",
      "• Learning rate\t\t: 0.001\n",
      "• Max iterasi\t\t: 1000\n",
      "• Jumlah hidden layer\t: 100\n"
     ]
    }
   ],
   "source": [
    "bc_mlp_params = bc_mlp_clf.get_params()\n",
    "pt_mlp_params = pt_mlp_clf.get_params()\n",
    "\n",
    "print(\"Parameter MLP dataset breast cancer:\")\n",
    "print(\"• Activation function\\t:\", bc_mlp_params['activation'])\n",
    "print(\"• Learning rate\\t\\t:\", bc_mlp_params['learning_rate_init'])\n",
    "print(\"• Max iterasi\\t\\t:\", bc_mlp_params['max_iter'])\n",
    "print(\"• Jumlah hidden layer\\t:\", bc_mlp_params['hidden_layer_sizes'][0])\n",
    "print(\"\\nParameter MLP dataset play tennis:\")\n",
    "print(\"• Activation function\\t:\", pt_mlp_params['activation'])\n",
    "print(\"• Learning rate\\t\\t:\", pt_mlp_params['learning_rate_init'])\n",
    "print(\"• Max iterasi\\t\\t:\", pt_mlp_params['max_iter'])\n",
    "print(\"• Jumlah hidden layer\\t:\", pt_mlp_params['hidden_layer_sizes'][0])"
   ]
  },
  {
   "cell_type": "markdown",
   "id": "c637b51f",
   "metadata": {},
   "source": [
    "Multilayer Perceptron merupakan jenis Artificial Neural Network, sebuah model machine learning yang menggunakan node perceptron sebagai blok pembangun modelnya. Dalam MLP, terdapat tiga jenis layer node: input layer, hidden layer, dan output layer. Input layer berjumlah sebanyak parameter input, kemudian nilai setiap node pada layer berikutnya dipengaruhi oleh node-node input berdasarkan bobot tertentu. Untuk suatu node yang dipengaruhi oleh nilai node pada layer sebelumnya x<sub>ij</sub>, nilai terbobotnya merupakan ∑(∑(w<sub>ij</sub>\\*x<sub>ij</sub>) + b<sub>i</sub>). Nilai ini kemudian dilalui sebuah fungsi aktivasi, yang digunakan untuk memetakan nilai terbobot ke suatu rentang tertentu. Hasil prediksi dari output layer digunakan untuk menghitung cost dan memperbarui nilai bobot layer terakhir sebelum output layer. Nilai baru pada layer tersebut digunakan kembali untuk menghitung cost dan memberbarui nilai bobot layer sebelumnya, dan seterusnya hingga sampai ke layer pertama.\n",
    "\n",
    "Terdapat beberapa jenis fungsi aktivasi seperti fungsi sigmoid (seperti yang digunakan di logistic regression), fungsi hyperbolic tan, ReLU, dan fungsi identitas. Fungsi sigmoid memiliki bentuk S horizontal yang memetakan nilai terbobot menjadi 0 atau 1. Fungsi tanh memetakan nilai terbobot menjadi -1 atau 1, kemudian fungsi ReLU memetakan nilai negatif menjadi 0 dan nilai positif tidak diubah, sementara fungsi identitas tidak mengubah nilai terbobot.\n",
    "\n",
    "Dalam tugas ini, fungsi ReLU digunakan. Fungsi ReLU cukup umum untuk digunakan dalam MLP karena menghindari masalah numerik yang dialami fungsi sigmoid dan tanh saat melakukan gradient descent. Berikut rumus fungsi ReLU:\n",
    "\n",
    "• x<sub>ij</sub> = max(0, x<sub>ij</sub>)\n",
    "\n",
    "Kinerja MLP pada dataset breast cancer dan play tennis cukup baik, dengan accuracy 94.7% dan nilai f1 95.9% pada dataset breast cancer serta accuracy 100% dan nilai f1 100% pada dataset play tennis. Namun karena dataset play tennis cukup kecil, maka terdapat kemungkinan bahwa terdapat noise yang mempengaruhi kinerja classifier MLP-nya."
   ]
  },
  {
   "cell_type": "code",
   "execution_count": 10,
   "id": "ff1cc98d",
   "metadata": {},
   "outputs": [
    {
     "name": "stdout",
     "output_type": "stream",
     "text": [
      "SVM Performance:\n",
      "• Breast cancer dataset\n",
      "\tAccuracy:  0.9736842105263158\n",
      "\tf1_score:  0.9793103448275863\n",
      "• Play tennis dataset\n",
      "\tAccuracy:  1.0\n",
      "\tf1_score:  1.0\n"
     ]
    }
   ],
   "source": [
    "# Support Vector Machine: C-Support Vector Classification\n",
    "\n",
    "# Data preprocessing: normalisasi data agar setiap feature memiliki orde magnituda yang sama\n",
    "bc_scaler = StandardScaler().fit(bc_data.data)\n",
    "bc_X_train_scaled = bc_scaler.transform(bc_X_train)\n",
    "bc_X_test_scaled = bc_scaler.transform(bc_X_test)\n",
    "\n",
    "pt_scaler = StandardScaler().fit(pt_df[['outlook', 'temp', 'humidity', 'wind']])\n",
    "pt_X_train_scaled = pt_scaler.transform(pt_X_train)\n",
    "pt_X_test_scaled = pt_scaler.transform(pt_X_test)\n",
    "\n",
    "# Fit classifier\n",
    "bc_svc_clf = SVC(random_state=RD_STATE, gamma='auto').fit(bc_X_train_scaled, bc_y_train)\n",
    "\n",
    "pt_svc_clf = SVC(random_state=RD_STATE, gamma='auto').fit(pt_X_train_scaled, pt_y_train['play'])\n",
    "\n",
    "# Print accuracy dan nilai f1\n",
    "print(\"SVM Performance:\")\n",
    "print(\"• Breast cancer dataset\")\n",
    "print(\"\\tAccuracy: \", bc_svc_clf.score(bc_X_test_scaled, bc_y_test))\n",
    "print(\"\\tf1_score: \", f1_score(bc_y_test, bc_svc_clf.predict(bc_X_test_scaled)))\n",
    "print(\"• Play tennis dataset\")\n",
    "print(\"\\tAccuracy: \", pt_svc_clf.score(pt_X_test_scaled, pt_y_test['play']))\n",
    "print(\"\\tf1_score: \", f1_score(pt_y_test['play'], pt_svc_clf.predict(pt_X_test_scaled)))"
   ]
  },
  {
   "cell_type": "code",
   "execution_count": 11,
   "id": "9c506c2f",
   "metadata": {},
   "outputs": [
    {
     "name": "stdout",
     "output_type": "stream",
     "text": [
      "Parameter MLP dataset breast cancer:\n",
      "• Penalty parameter\t: 1.0\n",
      "• Kernel\t\t: rbf\n",
      "\n",
      "Parameter MLP dataset play tennis:\n",
      "• Penalty parameter\t: 1.0\n",
      "• Kernel\t\t: rbf\n"
     ]
    }
   ],
   "source": [
    "bc_svc_params = bc_svc_clf.get_params()\n",
    "pt_svc_params = pt_svc_clf.get_params()\n",
    "\n",
    "print(\"Parameter MLP dataset breast cancer:\")\n",
    "print(\"• Penalty parameter\\t:\", bc_svc_params['C'])\n",
    "print(\"• Kernel\\t\\t:\", bc_svc_params['kernel'])\n",
    "print(\"\\nParameter MLP dataset play tennis:\")\n",
    "print(\"• Penalty parameter\\t:\", pt_svc_params['C'])\n",
    "print(\"• Kernel\\t\\t:\", pt_svc_params['kernel'])"
   ]
  },
  {
   "cell_type": "markdown",
   "id": "7f42712b",
   "metadata": {},
   "source": [
    "C-Support Vector Classification merupakan kelas SVM, sebuah model machine learning yang melakukan mapping pada data input menjadi titik data fitur berdimensi tinggi, untuk kemudian dicari batasan-batasan ruang yang dapat membagi data dengan baik. Untuk melakukan mapping, sebuah method disebut kernel digunakan. Dalam tugas ini, kernel Radial Basis Function (RBF) digunakan. Untuk dua titik data x dan x', Kernel RBF memiliki rumus sebagai berikut.\n",
    "\n",
    "• K(x, x') = exp(-||x-x'||<sup>2</sup>/(2s<sup>2</sup>))\n",
    "\n",
    "Dimana 1/(2s<sup>2</sup>) juga sering ditulis sebagai gamma. Parameter gamma mengendalikan fleksibilitas daerah decision boundary; jika gamma rendah, maka batasan ruang cenderung kurva sederhana, sementara jika gamma tinggi, maka batasan ruang dapat membentuk lingkaran daerah-daerah tentu yang terlihat lebih terpengaruh oleh masing data point. Perilaku kernel juga terpengaruhi oleh penalty parameter C, dimana semakin tinggi C, maka kernel semakin tidak toleran terhadap misklasifikasi.\n",
    "\n",
    "Kinerja SVC pada dataset breast cancer cukup baik, dengan accuracy 97.3% dan nilai f1 98%. Begitu pula kinerjanya cukup baik pada dataset play tennis, dengan accuracy 100% dan nilai f1 100%. Namun sama seperti model-model sebelumnya, terdapat kemungkinan bahwa kecilnya dataset play tennis menyebabkan evaluasi kinerja classifier tidak representatif akan kinerja aslinya jika di-test pada dataset yang lebih besar."
   ]
  }
 ],
 "metadata": {
  "kernelspec": {
   "display_name": "Python 3",
   "language": "python",
   "name": "python3"
  },
  "language_info": {
   "codemirror_mode": {
    "name": "ipython",
    "version": 3
   },
   "file_extension": ".py",
   "mimetype": "text/x-python",
   "name": "python",
   "nbconvert_exporter": "python",
   "pygments_lexer": "ipython3",
   "version": "3.6.15"
  }
 },
 "nbformat": 4,
 "nbformat_minor": 5
}
